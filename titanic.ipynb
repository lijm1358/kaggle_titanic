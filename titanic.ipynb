{
 "cells": [
  {
   "cell_type": "markdown",
   "metadata": {},
   "source": [
    "## 1. 데이터 불러오기 및 확인"
   ]
  },
  {
   "cell_type": "code",
   "execution_count": 1,
   "metadata": {},
   "outputs": [],
   "source": [
    "import pandas as pd\n",
    "import numpy as np"
   ]
  },
  {
   "cell_type": "code",
   "execution_count": 2,
   "metadata": {},
   "outputs": [],
   "source": [
    "# 데이터 불러오기\n",
    "\n",
    "titanic_data_train = pd.read_csv(\"titanic/train.csv\")\n",
    "titanic_data_test = pd.read_csv(\"titanic/test.csv\")"
   ]
  },
  {
   "cell_type": "code",
   "execution_count": 3,
   "metadata": {},
   "outputs": [
    {
     "data": {
      "text/html": [
       "<div>\n",
       "<style scoped>\n",
       "    .dataframe tbody tr th:only-of-type {\n",
       "        vertical-align: middle;\n",
       "    }\n",
       "\n",
       "    .dataframe tbody tr th {\n",
       "        vertical-align: top;\n",
       "    }\n",
       "\n",
       "    .dataframe thead th {\n",
       "        text-align: right;\n",
       "    }\n",
       "</style>\n",
       "<table border=\"1\" class=\"dataframe\">\n",
       "  <thead>\n",
       "    <tr style=\"text-align: right;\">\n",
       "      <th></th>\n",
       "      <th>PassengerId</th>\n",
       "      <th>Survived</th>\n",
       "      <th>Pclass</th>\n",
       "      <th>Name</th>\n",
       "      <th>Sex</th>\n",
       "      <th>Age</th>\n",
       "      <th>SibSp</th>\n",
       "      <th>Parch</th>\n",
       "      <th>Ticket</th>\n",
       "      <th>Fare</th>\n",
       "      <th>Cabin</th>\n",
       "      <th>Embarked</th>\n",
       "    </tr>\n",
       "  </thead>\n",
       "  <tbody>\n",
       "    <tr>\n",
       "      <th>0</th>\n",
       "      <td>1</td>\n",
       "      <td>0</td>\n",
       "      <td>3</td>\n",
       "      <td>Braund, Mr. Owen Harris</td>\n",
       "      <td>male</td>\n",
       "      <td>22.0</td>\n",
       "      <td>1</td>\n",
       "      <td>0</td>\n",
       "      <td>A/5 21171</td>\n",
       "      <td>7.2500</td>\n",
       "      <td>NaN</td>\n",
       "      <td>S</td>\n",
       "    </tr>\n",
       "    <tr>\n",
       "      <th>1</th>\n",
       "      <td>2</td>\n",
       "      <td>1</td>\n",
       "      <td>1</td>\n",
       "      <td>Cumings, Mrs. John Bradley (Florence Briggs Th...</td>\n",
       "      <td>female</td>\n",
       "      <td>38.0</td>\n",
       "      <td>1</td>\n",
       "      <td>0</td>\n",
       "      <td>PC 17599</td>\n",
       "      <td>71.2833</td>\n",
       "      <td>C85</td>\n",
       "      <td>C</td>\n",
       "    </tr>\n",
       "    <tr>\n",
       "      <th>2</th>\n",
       "      <td>3</td>\n",
       "      <td>1</td>\n",
       "      <td>3</td>\n",
       "      <td>Heikkinen, Miss. Laina</td>\n",
       "      <td>female</td>\n",
       "      <td>26.0</td>\n",
       "      <td>0</td>\n",
       "      <td>0</td>\n",
       "      <td>STON/O2. 3101282</td>\n",
       "      <td>7.9250</td>\n",
       "      <td>NaN</td>\n",
       "      <td>S</td>\n",
       "    </tr>\n",
       "    <tr>\n",
       "      <th>3</th>\n",
       "      <td>4</td>\n",
       "      <td>1</td>\n",
       "      <td>1</td>\n",
       "      <td>Futrelle, Mrs. Jacques Heath (Lily May Peel)</td>\n",
       "      <td>female</td>\n",
       "      <td>35.0</td>\n",
       "      <td>1</td>\n",
       "      <td>0</td>\n",
       "      <td>113803</td>\n",
       "      <td>53.1000</td>\n",
       "      <td>C123</td>\n",
       "      <td>S</td>\n",
       "    </tr>\n",
       "    <tr>\n",
       "      <th>4</th>\n",
       "      <td>5</td>\n",
       "      <td>0</td>\n",
       "      <td>3</td>\n",
       "      <td>Allen, Mr. William Henry</td>\n",
       "      <td>male</td>\n",
       "      <td>35.0</td>\n",
       "      <td>0</td>\n",
       "      <td>0</td>\n",
       "      <td>373450</td>\n",
       "      <td>8.0500</td>\n",
       "      <td>NaN</td>\n",
       "      <td>S</td>\n",
       "    </tr>\n",
       "    <tr>\n",
       "      <th>5</th>\n",
       "      <td>6</td>\n",
       "      <td>0</td>\n",
       "      <td>3</td>\n",
       "      <td>Moran, Mr. James</td>\n",
       "      <td>male</td>\n",
       "      <td>NaN</td>\n",
       "      <td>0</td>\n",
       "      <td>0</td>\n",
       "      <td>330877</td>\n",
       "      <td>8.4583</td>\n",
       "      <td>NaN</td>\n",
       "      <td>Q</td>\n",
       "    </tr>\n",
       "    <tr>\n",
       "      <th>6</th>\n",
       "      <td>7</td>\n",
       "      <td>0</td>\n",
       "      <td>1</td>\n",
       "      <td>McCarthy, Mr. Timothy J</td>\n",
       "      <td>male</td>\n",
       "      <td>54.0</td>\n",
       "      <td>0</td>\n",
       "      <td>0</td>\n",
       "      <td>17463</td>\n",
       "      <td>51.8625</td>\n",
       "      <td>E46</td>\n",
       "      <td>S</td>\n",
       "    </tr>\n",
       "    <tr>\n",
       "      <th>7</th>\n",
       "      <td>8</td>\n",
       "      <td>0</td>\n",
       "      <td>3</td>\n",
       "      <td>Palsson, Master. Gosta Leonard</td>\n",
       "      <td>male</td>\n",
       "      <td>2.0</td>\n",
       "      <td>3</td>\n",
       "      <td>1</td>\n",
       "      <td>349909</td>\n",
       "      <td>21.0750</td>\n",
       "      <td>NaN</td>\n",
       "      <td>S</td>\n",
       "    </tr>\n",
       "    <tr>\n",
       "      <th>8</th>\n",
       "      <td>9</td>\n",
       "      <td>1</td>\n",
       "      <td>3</td>\n",
       "      <td>Johnson, Mrs. Oscar W (Elisabeth Vilhelmina Berg)</td>\n",
       "      <td>female</td>\n",
       "      <td>27.0</td>\n",
       "      <td>0</td>\n",
       "      <td>2</td>\n",
       "      <td>347742</td>\n",
       "      <td>11.1333</td>\n",
       "      <td>NaN</td>\n",
       "      <td>S</td>\n",
       "    </tr>\n",
       "    <tr>\n",
       "      <th>9</th>\n",
       "      <td>10</td>\n",
       "      <td>1</td>\n",
       "      <td>2</td>\n",
       "      <td>Nasser, Mrs. Nicholas (Adele Achem)</td>\n",
       "      <td>female</td>\n",
       "      <td>14.0</td>\n",
       "      <td>1</td>\n",
       "      <td>0</td>\n",
       "      <td>237736</td>\n",
       "      <td>30.0708</td>\n",
       "      <td>NaN</td>\n",
       "      <td>C</td>\n",
       "    </tr>\n",
       "  </tbody>\n",
       "</table>\n",
       "</div>"
      ],
      "text/plain": [
       "   PassengerId  Survived  Pclass  \\\n",
       "0            1         0       3   \n",
       "1            2         1       1   \n",
       "2            3         1       3   \n",
       "3            4         1       1   \n",
       "4            5         0       3   \n",
       "5            6         0       3   \n",
       "6            7         0       1   \n",
       "7            8         0       3   \n",
       "8            9         1       3   \n",
       "9           10         1       2   \n",
       "\n",
       "                                                Name     Sex   Age  SibSp  \\\n",
       "0                            Braund, Mr. Owen Harris    male  22.0      1   \n",
       "1  Cumings, Mrs. John Bradley (Florence Briggs Th...  female  38.0      1   \n",
       "2                             Heikkinen, Miss. Laina  female  26.0      0   \n",
       "3       Futrelle, Mrs. Jacques Heath (Lily May Peel)  female  35.0      1   \n",
       "4                           Allen, Mr. William Henry    male  35.0      0   \n",
       "5                                   Moran, Mr. James    male   NaN      0   \n",
       "6                            McCarthy, Mr. Timothy J    male  54.0      0   \n",
       "7                     Palsson, Master. Gosta Leonard    male   2.0      3   \n",
       "8  Johnson, Mrs. Oscar W (Elisabeth Vilhelmina Berg)  female  27.0      0   \n",
       "9                Nasser, Mrs. Nicholas (Adele Achem)  female  14.0      1   \n",
       "\n",
       "   Parch            Ticket     Fare Cabin Embarked  \n",
       "0      0         A/5 21171   7.2500   NaN        S  \n",
       "1      0          PC 17599  71.2833   C85        C  \n",
       "2      0  STON/O2. 3101282   7.9250   NaN        S  \n",
       "3      0            113803  53.1000  C123        S  \n",
       "4      0            373450   8.0500   NaN        S  \n",
       "5      0            330877   8.4583   NaN        Q  \n",
       "6      0             17463  51.8625   E46        S  \n",
       "7      1            349909  21.0750   NaN        S  \n",
       "8      2            347742  11.1333   NaN        S  \n",
       "9      0            237736  30.0708   NaN        C  "
      ]
     },
     "execution_count": 3,
     "metadata": {},
     "output_type": "execute_result"
    }
   ],
   "source": [
    "titanic_data_train.head(10)"
   ]
  },
  {
   "cell_type": "code",
   "execution_count": 4,
   "metadata": {},
   "outputs": [
    {
     "name": "stdout",
     "output_type": "stream",
     "text": [
      "<class 'pandas.core.frame.DataFrame'>\n",
      "RangeIndex: 891 entries, 0 to 890\n",
      "Data columns (total 12 columns):\n",
      " #   Column       Non-Null Count  Dtype  \n",
      "---  ------       --------------  -----  \n",
      " 0   PassengerId  891 non-null    int64  \n",
      " 1   Survived     891 non-null    int64  \n",
      " 2   Pclass       891 non-null    int64  \n",
      " 3   Name         891 non-null    object \n",
      " 4   Sex          891 non-null    object \n",
      " 5   Age          714 non-null    float64\n",
      " 6   SibSp        891 non-null    int64  \n",
      " 7   Parch        891 non-null    int64  \n",
      " 8   Ticket       891 non-null    object \n",
      " 9   Fare         891 non-null    float64\n",
      " 10  Cabin        204 non-null    object \n",
      " 11  Embarked     889 non-null    object \n",
      "dtypes: float64(2), int64(5), object(5)\n",
      "memory usage: 83.7+ KB\n"
     ]
    }
   ],
   "source": [
    "#survival\tSurvival\t    0 = No, 1 = Yes\n",
    "#pclass\t    Ticket class\t1 = 1st, 2 = 2nd, 3 = 3rd\n",
    "#sex\t    Sex\t\n",
    "#Age\t    Age in years\t\n",
    "#sibsp\t    # of siblings / spouses aboard the Titanic\t\n",
    "#parch\t    # of parents / children aboard the Titanic\t\n",
    "#ticket\t    Ticket number\t\n",
    "#fare\t    Passenger fare\t\n",
    "#cabin\t    Cabin number(선실 번호)\t\n",
    "#embarked\tPort of Embarkation(출발 항만)\tC = Cherbourg, Q = Queenstown, S = Southampton\n",
    "\n",
    "titanic_data_train.info()"
   ]
  },
  {
   "cell_type": "code",
   "execution_count": 5,
   "metadata": {},
   "outputs": [
    {
     "data": {
      "image/png": "[encoded data removed]",
      "text/plain": [
       "<Figure size 1440x1080 with 6 Axes>"
      ]
     },
     "metadata": {
      "needs_background": "light"
     },
     "output_type": "display_data"
    }
   ],
   "source": [
    "import matplotlib.pyplot as plt\n",
    "titanic_data_train.drop(\"PassengerId\", axis=1).hist(bins=50, figsize=(20,15))\n",
    "plt.show()"
   ]
  },
  {
   "cell_type": "code",
   "execution_count": 6,
   "metadata": {},
   "outputs": [
    {
     "data": {
      "text/plain": [
       "<bound method Series.sort_values of PassengerId   -0.005007\n",
       "Survived       1.000000\n",
       "Pclass        -0.338481\n",
       "Age           -0.077221\n",
       "SibSp         -0.035322\n",
       "Parch          0.081629\n",
       "Fare           0.257307\n",
       "Name: Survived, dtype: float64>"
      ]
     },
     "execution_count": 6,
     "metadata": {},
     "output_type": "execute_result"
    }
   ],
   "source": [
    "corr_matrix = titanic_data_train.corr()\n",
    "corr_matrix[\"Survived\"].sort_values"
   ]
  },
  {
   "cell_type": "code",
   "execution_count": 7,
   "metadata": {},
   "outputs": [
    {
     "data": {
      "text/plain": [
       "<bound method Series.sort_values of PassengerId    0.036847\n",
       "Survived      -0.077221\n",
       "Pclass        -0.369226\n",
       "Age            1.000000\n",
       "SibSp         -0.308247\n",
       "Parch         -0.189119\n",
       "Fare           0.096067\n",
       "Name: Age, dtype: float64>"
      ]
     },
     "execution_count": 7,
     "metadata": {},
     "output_type": "execute_result"
    }
   ],
   "source": [
    "corr_matrix[\"Age\"].sort_values"
   ]
  },
  {
   "cell_type": "markdown",
   "metadata": {},
   "source": [
    "## 2. 데이터 전처리(파이프라인은 아래 ```전처리 파이프라인```으로)"
   ]
  },
  {
   "cell_type": "code",
   "execution_count": 8,
   "metadata": {},
   "outputs": [],
   "source": [
    "# index역할을 하는 PassengerId, 전부 unique한 값을 가지고 있고 레이블과 큰 관련이 없어 보이는 Name/Ticket, \n",
    "# 결측치가 많은 Cabin column들 제거\n",
    "titanic_data_train_dropped = titanic_data_train.drop([\"PassengerId\", \"Name\", \"Ticket\", \"Cabin\"], axis=1)\n",
    "# Embarked 값이 없는 row 제거\n",
    "titanic_data_train_dropped = titanic_data_train_dropped.dropna(subset=[\"Embarked\"])\n",
    "titanic_data_train_dropped = titanic_data_train_dropped.reset_index(drop=True)"
   ]
  },
  {
   "cell_type": "code",
   "execution_count": 9,
   "metadata": {},
   "outputs": [
    {
     "data": {
      "text/html": [
       "<div>\n",
       "<style scoped>\n",
       "    .dataframe tbody tr th:only-of-type {\n",
       "        vertical-align: middle;\n",
       "    }\n",
       "\n",
       "    .dataframe tbody tr th {\n",
       "        vertical-align: top;\n",
       "    }\n",
       "\n",
       "    .dataframe thead th {\n",
       "        text-align: right;\n",
       "    }\n",
       "</style>\n",
       "<table border=\"1\" class=\"dataframe\">\n",
       "  <thead>\n",
       "    <tr style=\"text-align: right;\">\n",
       "      <th></th>\n",
       "      <th>Survived</th>\n",
       "      <th>Pclass</th>\n",
       "      <th>Sex</th>\n",
       "      <th>Age</th>\n",
       "      <th>SibSp</th>\n",
       "      <th>Parch</th>\n",
       "      <th>Fare</th>\n",
       "      <th>Embarked</th>\n",
       "    </tr>\n",
       "  </thead>\n",
       "  <tbody>\n",
       "    <tr>\n",
       "      <th>0</th>\n",
       "      <td>0</td>\n",
       "      <td>3</td>\n",
       "      <td>male</td>\n",
       "      <td>22.0</td>\n",
       "      <td>1</td>\n",
       "      <td>0</td>\n",
       "      <td>7.2500</td>\n",
       "      <td>S</td>\n",
       "    </tr>\n",
       "    <tr>\n",
       "      <th>1</th>\n",
       "      <td>1</td>\n",
       "      <td>1</td>\n",
       "      <td>female</td>\n",
       "      <td>38.0</td>\n",
       "      <td>1</td>\n",
       "      <td>0</td>\n",
       "      <td>71.2833</td>\n",
       "      <td>C</td>\n",
       "    </tr>\n",
       "    <tr>\n",
       "      <th>2</th>\n",
       "      <td>1</td>\n",
       "      <td>3</td>\n",
       "      <td>female</td>\n",
       "      <td>26.0</td>\n",
       "      <td>0</td>\n",
       "      <td>0</td>\n",
       "      <td>7.9250</td>\n",
       "      <td>S</td>\n",
       "    </tr>\n",
       "    <tr>\n",
       "      <th>3</th>\n",
       "      <td>1</td>\n",
       "      <td>1</td>\n",
       "      <td>female</td>\n",
       "      <td>35.0</td>\n",
       "      <td>1</td>\n",
       "      <td>0</td>\n",
       "      <td>53.1000</td>\n",
       "      <td>S</td>\n",
       "    </tr>\n",
       "    <tr>\n",
       "      <th>4</th>\n",
       "      <td>0</td>\n",
       "      <td>3</td>\n",
       "      <td>male</td>\n",
       "      <td>35.0</td>\n",
       "      <td>0</td>\n",
       "      <td>0</td>\n",
       "      <td>8.0500</td>\n",
       "      <td>S</td>\n",
       "    </tr>\n",
       "    <tr>\n",
       "      <th>...</th>\n",
       "      <td>...</td>\n",
       "      <td>...</td>\n",
       "      <td>...</td>\n",
       "      <td>...</td>\n",
       "      <td>...</td>\n",
       "      <td>...</td>\n",
       "      <td>...</td>\n",
       "      <td>...</td>\n",
       "    </tr>\n",
       "    <tr>\n",
       "      <th>884</th>\n",
       "      <td>0</td>\n",
       "      <td>2</td>\n",
       "      <td>male</td>\n",
       "      <td>27.0</td>\n",
       "      <td>0</td>\n",
       "      <td>0</td>\n",
       "      <td>13.0000</td>\n",
       "      <td>S</td>\n",
       "    </tr>\n",
       "    <tr>\n",
       "      <th>885</th>\n",
       "      <td>1</td>\n",
       "      <td>1</td>\n",
       "      <td>female</td>\n",
       "      <td>19.0</td>\n",
       "      <td>0</td>\n",
       "      <td>0</td>\n",
       "      <td>30.0000</td>\n",
       "      <td>S</td>\n",
       "    </tr>\n",
       "    <tr>\n",
       "      <th>886</th>\n",
       "      <td>0</td>\n",
       "      <td>3</td>\n",
       "      <td>female</td>\n",
       "      <td>NaN</td>\n",
       "      <td>1</td>\n",
       "      <td>2</td>\n",
       "      <td>23.4500</td>\n",
       "      <td>S</td>\n",
       "    </tr>\n",
       "    <tr>\n",
       "      <th>887</th>\n",
       "      <td>1</td>\n",
       "      <td>1</td>\n",
       "      <td>male</td>\n",
       "      <td>26.0</td>\n",
       "      <td>0</td>\n",
       "      <td>0</td>\n",
       "      <td>30.0000</td>\n",
       "      <td>C</td>\n",
       "    </tr>\n",
       "    <tr>\n",
       "      <th>888</th>\n",
       "      <td>0</td>\n",
       "      <td>3</td>\n",
       "      <td>male</td>\n",
       "      <td>32.0</td>\n",
       "      <td>0</td>\n",
       "      <td>0</td>\n",
       "      <td>7.7500</td>\n",
       "      <td>Q</td>\n",
       "    </tr>\n",
       "  </tbody>\n",
       "</table>\n",
       "<p>889 rows × 8 columns</p>\n",
       "</div>"
      ],
      "text/plain": [
       "     Survived  Pclass     Sex   Age  SibSp  Parch     Fare Embarked\n",
       "0           0       3    male  22.0      1      0   7.2500        S\n",
       "1           1       1  female  38.0      1      0  71.2833        C\n",
       "2           1       3  female  26.0      0      0   7.9250        S\n",
       "3           1       1  female  35.0      1      0  53.1000        S\n",
       "4           0       3    male  35.0      0      0   8.0500        S\n",
       "..        ...     ...     ...   ...    ...    ...      ...      ...\n",
       "884         0       2    male  27.0      0      0  13.0000        S\n",
       "885         1       1  female  19.0      0      0  30.0000        S\n",
       "886         0       3  female   NaN      1      2  23.4500        S\n",
       "887         1       1    male  26.0      0      0  30.0000        C\n",
       "888         0       3    male  32.0      0      0   7.7500        Q\n",
       "\n",
       "[889 rows x 8 columns]"
      ]
     },
     "execution_count": 9,
     "metadata": {},
     "output_type": "execute_result"
    }
   ],
   "source": [
    "titanic_data_train_dropped"
   ]
  },
  {
   "cell_type": "code",
   "execution_count": 10,
   "metadata": {},
   "outputs": [],
   "source": [
    "# 문자열 데이터인 성별은 OrdinalEncoding, 출발지(Embarked)는 OneHotEncoding 처리\n",
    "from sklearn.preprocessing import OneHotEncoder\n",
    "from sklearn.preprocessing import OrdinalEncoder\n",
    "\n",
    "ordinal_enc = OrdinalEncoder()\n",
    "onehot_enc = OneHotEncoder()\n",
    "\n",
    "titanic_ordinal = ordinal_enc.fit_transform(titanic_data_train_dropped[[\"Sex\"]])\n",
    "titanic_onehot = onehot_enc.fit_transform(titanic_data_train_dropped[[\"Embarked\"]])"
   ]
  },
  {
   "cell_type": "code",
   "execution_count": 11,
   "metadata": {},
   "outputs": [
    {
     "data": {
      "text/plain": [
       "[array(['C', 'Q', 'S'], dtype=object)]"
      ]
     },
     "execution_count": 11,
     "metadata": {},
     "output_type": "execute_result"
    }
   ],
   "source": [
    "onehot_enc.categories_"
   ]
  },
  {
   "cell_type": "code",
   "execution_count": 12,
   "metadata": {},
   "outputs": [],
   "source": [
    "enc_categories = np.concatenate(([\"Sex\"], onehot_enc.categories_[0]), axis=None)\n",
    "titanic_enc = np.append(titanic_ordinal, titanic_onehot.toarray(), axis=1)\n",
    "titanic_data_train_dropped = titanic_data_train_dropped.drop([\"Sex\", \"Embarked\"], axis=1)\n",
    "\n",
    "titanic_enc = pd.concat([titanic_data_train_dropped, pd.DataFrame(titanic_enc, columns=enc_categories)], axis=1)"
   ]
  },
  {
   "cell_type": "code",
   "execution_count": 13,
   "metadata": {},
   "outputs": [
    {
     "data": {
      "text/html": [
       "<div>\n",
       "<style scoped>\n",
       "    .dataframe tbody tr th:only-of-type {\n",
       "        vertical-align: middle;\n",
       "    }\n",
       "\n",
       "    .dataframe tbody tr th {\n",
       "        vertical-align: top;\n",
       "    }\n",
       "\n",
       "    .dataframe thead th {\n",
       "        text-align: right;\n",
       "    }\n",
       "</style>\n",
       "<table border=\"1\" class=\"dataframe\">\n",
       "  <thead>\n",
       "    <tr style=\"text-align: right;\">\n",
       "      <th></th>\n",
       "      <th>Survived</th>\n",
       "      <th>Pclass</th>\n",
       "      <th>Age</th>\n",
       "      <th>SibSp</th>\n",
       "      <th>Parch</th>\n",
       "      <th>Fare</th>\n",
       "      <th>Sex</th>\n",
       "      <th>C</th>\n",
       "      <th>Q</th>\n",
       "      <th>S</th>\n",
       "    </tr>\n",
       "  </thead>\n",
       "  <tbody>\n",
       "    <tr>\n",
       "      <th>0</th>\n",
       "      <td>0</td>\n",
       "      <td>3</td>\n",
       "      <td>22.0</td>\n",
       "      <td>1</td>\n",
       "      <td>0</td>\n",
       "      <td>7.2500</td>\n",
       "      <td>1.0</td>\n",
       "      <td>0.0</td>\n",
       "      <td>0.0</td>\n",
       "      <td>1.0</td>\n",
       "    </tr>\n",
       "    <tr>\n",
       "      <th>1</th>\n",
       "      <td>1</td>\n",
       "      <td>1</td>\n",
       "      <td>38.0</td>\n",
       "      <td>1</td>\n",
       "      <td>0</td>\n",
       "      <td>71.2833</td>\n",
       "      <td>0.0</td>\n",
       "      <td>1.0</td>\n",
       "      <td>0.0</td>\n",
       "      <td>0.0</td>\n",
       "    </tr>\n",
       "    <tr>\n",
       "      <th>2</th>\n",
       "      <td>1</td>\n",
       "      <td>3</td>\n",
       "      <td>26.0</td>\n",
       "      <td>0</td>\n",
       "      <td>0</td>\n",
       "      <td>7.9250</td>\n",
       "      <td>0.0</td>\n",
       "      <td>0.0</td>\n",
       "      <td>0.0</td>\n",
       "      <td>1.0</td>\n",
       "    </tr>\n",
       "    <tr>\n",
       "      <th>3</th>\n",
       "      <td>1</td>\n",
       "      <td>1</td>\n",
       "      <td>35.0</td>\n",
       "      <td>1</td>\n",
       "      <td>0</td>\n",
       "      <td>53.1000</td>\n",
       "      <td>0.0</td>\n",
       "      <td>0.0</td>\n",
       "      <td>0.0</td>\n",
       "      <td>1.0</td>\n",
       "    </tr>\n",
       "    <tr>\n",
       "      <th>4</th>\n",
       "      <td>0</td>\n",
       "      <td>3</td>\n",
       "      <td>35.0</td>\n",
       "      <td>0</td>\n",
       "      <td>0</td>\n",
       "      <td>8.0500</td>\n",
       "      <td>1.0</td>\n",
       "      <td>0.0</td>\n",
       "      <td>0.0</td>\n",
       "      <td>1.0</td>\n",
       "    </tr>\n",
       "    <tr>\n",
       "      <th>...</th>\n",
       "      <td>...</td>\n",
       "      <td>...</td>\n",
       "      <td>...</td>\n",
       "      <td>...</td>\n",
       "      <td>...</td>\n",
       "      <td>...</td>\n",
       "      <td>...</td>\n",
       "      <td>...</td>\n",
       "      <td>...</td>\n",
       "      <td>...</td>\n",
       "    </tr>\n",
       "    <tr>\n",
       "      <th>884</th>\n",
       "      <td>0</td>\n",
       "      <td>2</td>\n",
       "      <td>27.0</td>\n",
       "      <td>0</td>\n",
       "      <td>0</td>\n",
       "      <td>13.0000</td>\n",
       "      <td>1.0</td>\n",
       "      <td>0.0</td>\n",
       "      <td>0.0</td>\n",
       "      <td>1.0</td>\n",
       "    </tr>\n",
       "    <tr>\n",
       "      <th>885</th>\n",
       "      <td>1</td>\n",
       "      <td>1</td>\n",
       "      <td>19.0</td>\n",
       "      <td>0</td>\n",
       "      <td>0</td>\n",
       "      <td>30.0000</td>\n",
       "      <td>0.0</td>\n",
       "      <td>0.0</td>\n",
       "      <td>0.0</td>\n",
       "      <td>1.0</td>\n",
       "    </tr>\n",
       "    <tr>\n",
       "      <th>886</th>\n",
       "      <td>0</td>\n",
       "      <td>3</td>\n",
       "      <td>NaN</td>\n",
       "      <td>1</td>\n",
       "      <td>2</td>\n",
       "      <td>23.4500</td>\n",
       "      <td>0.0</td>\n",
       "      <td>0.0</td>\n",
       "      <td>0.0</td>\n",
       "      <td>1.0</td>\n",
       "    </tr>\n",
       "    <tr>\n",
       "      <th>887</th>\n",
       "      <td>1</td>\n",
       "      <td>1</td>\n",
       "      <td>26.0</td>\n",
       "      <td>0</td>\n",
       "      <td>0</td>\n",
       "      <td>30.0000</td>\n",
       "      <td>1.0</td>\n",
       "      <td>1.0</td>\n",
       "      <td>0.0</td>\n",
       "      <td>0.0</td>\n",
       "    </tr>\n",
       "    <tr>\n",
       "      <th>888</th>\n",
       "      <td>0</td>\n",
       "      <td>3</td>\n",
       "      <td>32.0</td>\n",
       "      <td>0</td>\n",
       "      <td>0</td>\n",
       "      <td>7.7500</td>\n",
       "      <td>1.0</td>\n",
       "      <td>0.0</td>\n",
       "      <td>1.0</td>\n",
       "      <td>0.0</td>\n",
       "    </tr>\n",
       "  </tbody>\n",
       "</table>\n",
       "<p>889 rows × 10 columns</p>\n",
       "</div>"
      ],
      "text/plain": [
       "     Survived  Pclass   Age  SibSp  Parch     Fare  Sex    C    Q    S\n",
       "0           0       3  22.0      1      0   7.2500  1.0  0.0  0.0  1.0\n",
       "1           1       1  38.0      1      0  71.2833  0.0  1.0  0.0  0.0\n",
       "2           1       3  26.0      0      0   7.9250  0.0  0.0  0.0  1.0\n",
       "3           1       1  35.0      1      0  53.1000  0.0  0.0  0.0  1.0\n",
       "4           0       3  35.0      0      0   8.0500  1.0  0.0  0.0  1.0\n",
       "..        ...     ...   ...    ...    ...      ...  ...  ...  ...  ...\n",
       "884         0       2  27.0      0      0  13.0000  1.0  0.0  0.0  1.0\n",
       "885         1       1  19.0      0      0  30.0000  0.0  0.0  0.0  1.0\n",
       "886         0       3   NaN      1      2  23.4500  0.0  0.0  0.0  1.0\n",
       "887         1       1  26.0      0      0  30.0000  1.0  1.0  0.0  0.0\n",
       "888         0       3  32.0      0      0   7.7500  1.0  0.0  1.0  0.0\n",
       "\n",
       "[889 rows x 10 columns]"
      ]
     },
     "execution_count": 13,
     "metadata": {},
     "output_type": "execute_result"
    }
   ],
   "source": [
    "titanic_enc"
   ]
  },
  {
   "cell_type": "code",
   "execution_count": 14,
   "metadata": {},
   "outputs": [],
   "source": [
    "# Age column의 결측치 채우기.\n",
    "# Age는 Pclass row와 상관계수가 높으므로 각 Pclass에 따른 age의 중간값을 결측치를 채우는 데 사용.\n",
    "titanic_data_train_ready = titanic_enc\n",
    "means = titanic_data_train_ready.groupby([\"Pclass\"])[\"Age\"].median()"
   ]
  },
  {
   "cell_type": "code",
   "execution_count": 15,
   "metadata": {},
   "outputs": [
    {
     "data": {
      "text/plain": [
       "Pclass\n",
       "1    37.0\n",
       "2    29.0\n",
       "3    24.0\n",
       "Name: Age, dtype: float64"
      ]
     },
     "execution_count": 15,
     "metadata": {},
     "output_type": "execute_result"
    }
   ],
   "source": [
    "means"
   ]
  },
  {
   "cell_type": "code",
   "execution_count": 16,
   "metadata": {},
   "outputs": [],
   "source": [
    "titanic_data_train_ready = titanic_data_train_ready.set_index([\"Pclass\"])\n",
    "titanic_data_train_ready[\"Age\"] = titanic_data_train_ready[\"Age\"].fillna(means)\n",
    "titanic_data_train_ready = titanic_data_train_ready.reset_index()"
   ]
  },
  {
   "cell_type": "code",
   "execution_count": 17,
   "metadata": {},
   "outputs": [
    {
     "data": {
      "text/html": [
       "<div>\n",
       "<style scoped>\n",
       "    .dataframe tbody tr th:only-of-type {\n",
       "        vertical-align: middle;\n",
       "    }\n",
       "\n",
       "    .dataframe tbody tr th {\n",
       "        vertical-align: top;\n",
       "    }\n",
       "\n",
       "    .dataframe thead th {\n",
       "        text-align: right;\n",
       "    }\n",
       "</style>\n",
       "<table border=\"1\" class=\"dataframe\">\n",
       "  <thead>\n",
       "    <tr style=\"text-align: right;\">\n",
       "      <th></th>\n",
       "      <th>Pclass</th>\n",
       "      <th>Survived</th>\n",
       "      <th>Age</th>\n",
       "      <th>SibSp</th>\n",
       "      <th>Parch</th>\n",
       "      <th>Fare</th>\n",
       "      <th>Sex</th>\n",
       "      <th>C</th>\n",
       "      <th>Q</th>\n",
       "      <th>S</th>\n",
       "    </tr>\n",
       "  </thead>\n",
       "  <tbody>\n",
       "    <tr>\n",
       "      <th>0</th>\n",
       "      <td>3</td>\n",
       "      <td>0</td>\n",
       "      <td>22.0</td>\n",
       "      <td>1</td>\n",
       "      <td>0</td>\n",
       "      <td>7.2500</td>\n",
       "      <td>1.0</td>\n",
       "      <td>0.0</td>\n",
       "      <td>0.0</td>\n",
       "      <td>1.0</td>\n",
       "    </tr>\n",
       "    <tr>\n",
       "      <th>1</th>\n",
       "      <td>1</td>\n",
       "      <td>1</td>\n",
       "      <td>38.0</td>\n",
       "      <td>1</td>\n",
       "      <td>0</td>\n",
       "      <td>71.2833</td>\n",
       "      <td>0.0</td>\n",
       "      <td>1.0</td>\n",
       "      <td>0.0</td>\n",
       "      <td>0.0</td>\n",
       "    </tr>\n",
       "    <tr>\n",
       "      <th>2</th>\n",
       "      <td>3</td>\n",
       "      <td>1</td>\n",
       "      <td>26.0</td>\n",
       "      <td>0</td>\n",
       "      <td>0</td>\n",
       "      <td>7.9250</td>\n",
       "      <td>0.0</td>\n",
       "      <td>0.0</td>\n",
       "      <td>0.0</td>\n",
       "      <td>1.0</td>\n",
       "    </tr>\n",
       "    <tr>\n",
       "      <th>3</th>\n",
       "      <td>1</td>\n",
       "      <td>1</td>\n",
       "      <td>35.0</td>\n",
       "      <td>1</td>\n",
       "      <td>0</td>\n",
       "      <td>53.1000</td>\n",
       "      <td>0.0</td>\n",
       "      <td>0.0</td>\n",
       "      <td>0.0</td>\n",
       "      <td>1.0</td>\n",
       "    </tr>\n",
       "    <tr>\n",
       "      <th>4</th>\n",
       "      <td>3</td>\n",
       "      <td>0</td>\n",
       "      <td>35.0</td>\n",
       "      <td>0</td>\n",
       "      <td>0</td>\n",
       "      <td>8.0500</td>\n",
       "      <td>1.0</td>\n",
       "      <td>0.0</td>\n",
       "      <td>0.0</td>\n",
       "      <td>1.0</td>\n",
       "    </tr>\n",
       "    <tr>\n",
       "      <th>...</th>\n",
       "      <td>...</td>\n",
       "      <td>...</td>\n",
       "      <td>...</td>\n",
       "      <td>...</td>\n",
       "      <td>...</td>\n",
       "      <td>...</td>\n",
       "      <td>...</td>\n",
       "      <td>...</td>\n",
       "      <td>...</td>\n",
       "      <td>...</td>\n",
       "    </tr>\n",
       "    <tr>\n",
       "      <th>884</th>\n",
       "      <td>2</td>\n",
       "      <td>0</td>\n",
       "      <td>27.0</td>\n",
       "      <td>0</td>\n",
       "      <td>0</td>\n",
       "      <td>13.0000</td>\n",
       "      <td>1.0</td>\n",
       "      <td>0.0</td>\n",
       "      <td>0.0</td>\n",
       "      <td>1.0</td>\n",
       "    </tr>\n",
       "    <tr>\n",
       "      <th>885</th>\n",
       "      <td>1</td>\n",
       "      <td>1</td>\n",
       "      <td>19.0</td>\n",
       "      <td>0</td>\n",
       "      <td>0</td>\n",
       "      <td>30.0000</td>\n",
       "      <td>0.0</td>\n",
       "      <td>0.0</td>\n",
       "      <td>0.0</td>\n",
       "      <td>1.0</td>\n",
       "    </tr>\n",
       "    <tr>\n",
       "      <th>886</th>\n",
       "      <td>3</td>\n",
       "      <td>0</td>\n",
       "      <td>24.0</td>\n",
       "      <td>1</td>\n",
       "      <td>2</td>\n",
       "      <td>23.4500</td>\n",
       "      <td>0.0</td>\n",
       "      <td>0.0</td>\n",
       "      <td>0.0</td>\n",
       "      <td>1.0</td>\n",
       "    </tr>\n",
       "    <tr>\n",
       "      <th>887</th>\n",
       "      <td>1</td>\n",
       "      <td>1</td>\n",
       "      <td>26.0</td>\n",
       "      <td>0</td>\n",
       "      <td>0</td>\n",
       "      <td>30.0000</td>\n",
       "      <td>1.0</td>\n",
       "      <td>1.0</td>\n",
       "      <td>0.0</td>\n",
       "      <td>0.0</td>\n",
       "    </tr>\n",
       "    <tr>\n",
       "      <th>888</th>\n",
       "      <td>3</td>\n",
       "      <td>0</td>\n",
       "      <td>32.0</td>\n",
       "      <td>0</td>\n",
       "      <td>0</td>\n",
       "      <td>7.7500</td>\n",
       "      <td>1.0</td>\n",
       "      <td>0.0</td>\n",
       "      <td>1.0</td>\n",
       "      <td>0.0</td>\n",
       "    </tr>\n",
       "  </tbody>\n",
       "</table>\n",
       "<p>889 rows × 10 columns</p>\n",
       "</div>"
      ],
      "text/plain": [
       "     Pclass  Survived   Age  SibSp  Parch     Fare  Sex    C    Q    S\n",
       "0         3         0  22.0      1      0   7.2500  1.0  0.0  0.0  1.0\n",
       "1         1         1  38.0      1      0  71.2833  0.0  1.0  0.0  0.0\n",
       "2         3         1  26.0      0      0   7.9250  0.0  0.0  0.0  1.0\n",
       "3         1         1  35.0      1      0  53.1000  0.0  0.0  0.0  1.0\n",
       "4         3         0  35.0      0      0   8.0500  1.0  0.0  0.0  1.0\n",
       "..      ...       ...   ...    ...    ...      ...  ...  ...  ...  ...\n",
       "884       2         0  27.0      0      0  13.0000  1.0  0.0  0.0  1.0\n",
       "885       1         1  19.0      0      0  30.0000  0.0  0.0  0.0  1.0\n",
       "886       3         0  24.0      1      2  23.4500  0.0  0.0  0.0  1.0\n",
       "887       1         1  26.0      0      0  30.0000  1.0  1.0  0.0  0.0\n",
       "888       3         0  32.0      0      0   7.7500  1.0  0.0  1.0  0.0\n",
       "\n",
       "[889 rows x 10 columns]"
      ]
     },
     "execution_count": 17,
     "metadata": {},
     "output_type": "execute_result"
    }
   ],
   "source": [
    "titanic_data_train_ready"
   ]
  },
  {
   "cell_type": "code",
   "execution_count": 18,
   "metadata": {},
   "outputs": [],
   "source": [
    "# 레이블 분리 및 Standardization\n",
    "from sklearn.preprocessing import StandardScaler\n",
    "\n",
    "titanic_data_train_X = titanic_data_train_ready.drop(\"Survived\", axis=1)\n",
    "titanic_data_train_y = titanic_data_train_ready[\"Survived\"]\n",
    "\n",
    "scl = StandardScaler()\n",
    "titanic_data_train_X = scl.fit_transform(titanic_data_train_X)\n"
   ]
  },
  {
   "cell_type": "markdown",
   "metadata": {},
   "source": [
    "## 3. 모델 훈련"
   ]
  },
  {
   "cell_type": "code",
   "execution_count": 19,
   "metadata": {},
   "outputs": [
    {
     "data": {
      "text/plain": [
       "array([0.83146067, 0.84269663, 0.76404494, 0.86516854, 0.83146067,\n",
       "       0.78651685, 0.83146067, 0.76404494, 0.87640449, 0.84090909])"
      ]
     },
     "execution_count": 19,
     "metadata": {},
     "output_type": "execute_result"
    }
   ],
   "source": [
    "# SVM으로 훈련\n",
    "\n",
    "from sklearn.svm import SVC\n",
    "from sklearn.model_selection import cross_val_score\n",
    "\n",
    "svm_clf = SVC(gamma=\"auto\")\n",
    "\n",
    "svm_scores = cross_val_score(svm_clf, titanic_data_train_X, titanic_data_train_y, cv=10)\n",
    "svm_scores"
   ]
  },
  {
   "cell_type": "code",
   "execution_count": 20,
   "metadata": {},
   "outputs": [
    {
     "data": {
      "text/plain": [
       "SVC(gamma='auto')"
      ]
     },
     "execution_count": 20,
     "metadata": {},
     "output_type": "execute_result"
    }
   ],
   "source": [
    "svm_clf.fit(titanic_data_train_X, titanic_data_train_y)"
   ]
  },
  {
   "cell_type": "code",
   "execution_count": 21,
   "metadata": {},
   "outputs": [],
   "source": [
    "# test set(제출할 데이터 셋)에 대해 동일한 전처리\n",
    "titanic_data_test_dropped = titanic_data_test.drop([\"PassengerId\", \"Name\", \"Ticket\", \"Cabin\"], axis=1)\n",
    "titanic_data_test_dropped = titanic_data_test_dropped.dropna(subset=[\"Embarked\"])\n",
    "titanic_data_test_dropped = titanic_data_test_dropped.reset_index(drop=True)\n",
    "\n",
    "ordinal_enc = OrdinalEncoder()\n",
    "onehot_enc = OneHotEncoder()\n",
    "\n",
    "titanic_ordinal = ordinal_enc.fit_transform(titanic_data_test_dropped[[\"Sex\"]])\n",
    "titanic_onehot = onehot_enc.fit_transform(titanic_data_test_dropped[[\"Embarked\"]])\n",
    "\n",
    "enc_categories = np.concatenate(([\"Sex\"], onehot_enc.categories_[0]), axis=None)\n",
    "titanic_enc = np.append(titanic_ordinal, titanic_onehot.toarray(), axis=1)\n",
    "titanic_data_test_dropped = titanic_data_test_dropped.drop([\"Sex\", \"Embarked\"], axis=1)\n",
    "\n",
    "titanic_enc = pd.concat([titanic_data_test_dropped, pd.DataFrame(titanic_enc, columns=enc_categories)], axis=1)\n",
    "\n",
    "titanic_data_test_ready = titanic_enc\n",
    "means = titanic_data_test_ready.groupby([\"Pclass\"])[\"Age\"].median()\n",
    "\n",
    "titanic_data_test_ready = titanic_data_test_ready.set_index([\"Pclass\"])\n",
    "titanic_data_test_ready[\"Age\"] = titanic_data_test_ready[\"Age\"].fillna(means)\n",
    "titanic_data_test_ready = titanic_data_test_ready.reset_index()\n",
    "\n",
    "titanic_data_test_ready.fillna(titanic_data_test_ready.mean(), inplace=True)\n",
    "\n",
    "scl = StandardScaler()\n",
    "titanic_data_test_X = scl.fit_transform(titanic_data_test_ready)"
   ]
  },
  {
   "cell_type": "code",
   "execution_count": 22,
   "metadata": {},
   "outputs": [
    {
     "data": {
      "text/plain": [
       "array([[ 0.87348191,  0.39304753, -0.49947002, ..., -0.56814154,\n",
       "         2.84375747, -1.35067551],\n",
       "       [ 0.87348191,  1.35630895,  0.61699237, ..., -0.56814154,\n",
       "        -0.35164743,  0.74037028],\n",
       "       [-0.31581919,  2.51222265, -0.49947002, ..., -0.56814154,\n",
       "         2.84375747, -1.35067551],\n",
       "       ...,\n",
       "       [ 0.87348191,  0.70129118, -0.49947002, ..., -0.56814154,\n",
       "        -0.35164743,  0.74037028],\n",
       "       [ 0.87348191, -0.41609206, -0.49947002, ..., -0.56814154,\n",
       "        -0.35164743,  0.74037028],\n",
       "       [ 0.87348191, -0.41609206,  0.61699237, ...,  1.76012477,\n",
       "        -0.35164743, -1.35067551]])"
      ]
     },
     "execution_count": 22,
     "metadata": {},
     "output_type": "execute_result"
    }
   ],
   "source": [
    "titanic_data_test_X"
   ]
  },
  {
   "cell_type": "code",
   "execution_count": 23,
   "metadata": {},
   "outputs": [],
   "source": [
    "titanic_data_predict = svm_clf.predict(titanic_data_test_X)"
   ]
  },
  {
   "cell_type": "code",
   "execution_count": 24,
   "metadata": {},
   "outputs": [],
   "source": [
    "titanic_data_predict = pd.DataFrame(titanic_data_predict, columns=[\"Survived\"])"
   ]
  },
  {
   "cell_type": "code",
   "execution_count": 25,
   "metadata": {},
   "outputs": [],
   "source": [
    "pd.concat([titanic_data_test[\"PassengerId\"].to_frame(), titanic_data_predict], axis=1).to_csv(\"result.csv\", index=False)"
   ]
  },
  {
   "cell_type": "markdown",
   "metadata": {},
   "source": [
    "    \n",
    "    \n",
    "-------------------\n",
    "    \n",
    "## 4. 전처리 파이프라인"
   ]
  },
  {
   "cell_type": "code",
   "execution_count": 3,
   "metadata": {},
   "outputs": [],
   "source": [
    "# train set 필요없는 column 제거, 레이블 분리\n",
    "titanic_data_train_dropped = titanic_data_train.drop([\"PassengerId\", \"Name\", \"Ticket\", \"Cabin\"], axis=1)\n",
    "titanic_data_train_dropped = titanic_data_train_dropped.dropna(subset=[\"Embarked\"])\n",
    "titanic_data_train_dropped = titanic_data_train_dropped.reset_index(drop=True)\n",
    "\n",
    "titanic_data_train_X = titanic_data_train_dropped.drop([\"Survived\"], axis=1)\n",
    "titanic_data_train_y = titanic_data_train_dropped[\"Survived\"]"
   ]
  },
  {
   "cell_type": "code",
   "execution_count": 4,
   "metadata": {},
   "outputs": [],
   "source": [
    "# test set 필요없는 columm 제거\n",
    "titanic_data_test_dropped = titanic_data_test.drop([\"PassengerId\", \"Name\", \"Ticket\", \"Cabin\"], axis=1)\n",
    "titanic_data_test_dropped = titanic_data_test_dropped.dropna(subset=[\"Embarked\"])\n",
    "titanic_data_test_dropped = titanic_data_test_dropped.reset_index(drop=True)"
   ]
  },
  {
   "cell_type": "code",
   "execution_count": 6,
   "metadata": {},
   "outputs": [],
   "source": [
    "# 수치형 column 파이프라인\n",
    "# Age column의 결측치는 대상 row의 Pclass끼리 그룹화하여 Age의 중간값으로 채워넣고\n",
    "# 그 외의 결측치는 해당 column의 평균으로 채워넣음.\n",
    "\n",
    "# 전체 수치형 데이터에 대해 standardization 수행\n",
    "from sklearn.base import BaseEstimator, TransformerMixin\n",
    "from sklearn.preprocessing import StandardScaler\n",
    "from sklearn.preprocessing import OrdinalEncoder\n",
    "from sklearn.preprocessing import OneHotEncoder\n",
    "from sklearn.pipeline import Pipeline\n",
    "from sklearn.compose import ColumnTransformer\n",
    "\n",
    "class PclassBasedAgeImputer(BaseEstimator, TransformerMixin):\n",
    "    def __init__(self):\n",
    "        pass\n",
    "    def fit(self, X, y=None):\n",
    "        self.means = X.groupby([\"Pclass\"])[\"Age\"].median()\n",
    "        return self\n",
    "    def transform(self, X):\n",
    "        X = X.set_index([\"Pclass\"])\n",
    "        X[\"Age\"] = X[\"Age\"].fillna(self.means)\n",
    "        X = X.reset_index()\n",
    "        if(X.isnull().values.any()):\n",
    "            X.fillna(X.mean(), inplace=True)\n",
    "        return X\n",
    "\n",
    "num_attribs = [\"Pclass\", \"Age\", \"SibSp\", \"Parch\", \"Fare\"]\n",
    "\n",
    "num_pipeline = Pipeline([\n",
    "    ('imputer', PclassBasedAgeImputer()),\n",
    "    ('scaler', StandardScaler()),\n",
    "])\n",
    "\n",
    "full_pipeline = ColumnTransformer([\n",
    "    (\"num\", num_pipeline, num_attribs),\n",
    "    (\"sex\", OrdinalEncoder(), [\"Sex\"]),\n",
    "    (\"embark\", OneHotEncoder(), [\"Embarked\"]),\n",
    "])"
   ]
  },
  {
   "cell_type": "code",
   "execution_count": 7,
   "metadata": {},
   "outputs": [],
   "source": [
    "titanic_data_train_X = full_pipeline.fit_transform(titanic_data_train_X)\n",
    "titanic_data_test_X = full_pipeline.fit_transform(titanic_data_test_dropped)"
   ]
  },
  {
   "cell_type": "code",
   "execution_count": 8,
   "metadata": {},
   "outputs": [
    {
     "data": {
      "text/html": [
       "<div>\n",
       "<style scoped>\n",
       "    .dataframe tbody tr th:only-of-type {\n",
       "        vertical-align: middle;\n",
       "    }\n",
       "\n",
       "    .dataframe tbody tr th {\n",
       "        vertical-align: top;\n",
       "    }\n",
       "\n",
       "    .dataframe thead th {\n",
       "        text-align: right;\n",
       "    }\n",
       "</style>\n",
       "<table border=\"1\" class=\"dataframe\">\n",
       "  <thead>\n",
       "    <tr style=\"text-align: right;\">\n",
       "      <th></th>\n",
       "      <th>Pclass</th>\n",
       "      <th>Age</th>\n",
       "      <th>SibSp</th>\n",
       "      <th>Parch</th>\n",
       "      <th>Fare</th>\n",
       "      <th>Sex</th>\n",
       "      <th>C</th>\n",
       "      <th>Q</th>\n",
       "      <th>S</th>\n",
       "    </tr>\n",
       "  </thead>\n",
       "  <tbody>\n",
       "    <tr>\n",
       "      <th>0</th>\n",
       "      <td>0.825209</td>\n",
       "      <td>-0.531670</td>\n",
       "      <td>0.431350</td>\n",
       "      <td>-0.474326</td>\n",
       "      <td>-0.500240</td>\n",
       "      <td>1.0</td>\n",
       "      <td>0.0</td>\n",
       "      <td>0.0</td>\n",
       "      <td>1.0</td>\n",
       "    </tr>\n",
       "    <tr>\n",
       "      <th>1</th>\n",
       "      <td>-1.572211</td>\n",
       "      <td>0.680232</td>\n",
       "      <td>0.431350</td>\n",
       "      <td>-0.474326</td>\n",
       "      <td>0.788947</td>\n",
       "      <td>0.0</td>\n",
       "      <td>1.0</td>\n",
       "      <td>0.0</td>\n",
       "      <td>0.0</td>\n",
       "    </tr>\n",
       "    <tr>\n",
       "      <th>2</th>\n",
       "      <td>0.825209</td>\n",
       "      <td>-0.228695</td>\n",
       "      <td>-0.475199</td>\n",
       "      <td>-0.474326</td>\n",
       "      <td>-0.486650</td>\n",
       "      <td>0.0</td>\n",
       "      <td>0.0</td>\n",
       "      <td>0.0</td>\n",
       "      <td>1.0</td>\n",
       "    </tr>\n",
       "    <tr>\n",
       "      <th>3</th>\n",
       "      <td>-1.572211</td>\n",
       "      <td>0.453001</td>\n",
       "      <td>0.431350</td>\n",
       "      <td>-0.474326</td>\n",
       "      <td>0.422861</td>\n",
       "      <td>0.0</td>\n",
       "      <td>0.0</td>\n",
       "      <td>0.0</td>\n",
       "      <td>1.0</td>\n",
       "    </tr>\n",
       "    <tr>\n",
       "      <th>4</th>\n",
       "      <td>0.825209</td>\n",
       "      <td>0.453001</td>\n",
       "      <td>-0.475199</td>\n",
       "      <td>-0.474326</td>\n",
       "      <td>-0.484133</td>\n",
       "      <td>1.0</td>\n",
       "      <td>0.0</td>\n",
       "      <td>0.0</td>\n",
       "      <td>1.0</td>\n",
       "    </tr>\n",
       "    <tr>\n",
       "      <th>...</th>\n",
       "      <td>...</td>\n",
       "      <td>...</td>\n",
       "      <td>...</td>\n",
       "      <td>...</td>\n",
       "      <td>...</td>\n",
       "      <td>...</td>\n",
       "      <td>...</td>\n",
       "      <td>...</td>\n",
       "      <td>...</td>\n",
       "    </tr>\n",
       "    <tr>\n",
       "      <th>884</th>\n",
       "      <td>-0.373501</td>\n",
       "      <td>-0.152951</td>\n",
       "      <td>-0.475199</td>\n",
       "      <td>-0.474326</td>\n",
       "      <td>-0.384475</td>\n",
       "      <td>1.0</td>\n",
       "      <td>0.0</td>\n",
       "      <td>0.0</td>\n",
       "      <td>1.0</td>\n",
       "    </tr>\n",
       "    <tr>\n",
       "      <th>885</th>\n",
       "      <td>-1.572211</td>\n",
       "      <td>-0.758902</td>\n",
       "      <td>-0.475199</td>\n",
       "      <td>-0.474326</td>\n",
       "      <td>-0.042213</td>\n",
       "      <td>0.0</td>\n",
       "      <td>0.0</td>\n",
       "      <td>0.0</td>\n",
       "      <td>1.0</td>\n",
       "    </tr>\n",
       "    <tr>\n",
       "      <th>886</th>\n",
       "      <td>0.825209</td>\n",
       "      <td>-0.380182</td>\n",
       "      <td>0.431350</td>\n",
       "      <td>2.006119</td>\n",
       "      <td>-0.174084</td>\n",
       "      <td>0.0</td>\n",
       "      <td>0.0</td>\n",
       "      <td>0.0</td>\n",
       "      <td>1.0</td>\n",
       "    </tr>\n",
       "    <tr>\n",
       "      <th>887</th>\n",
       "      <td>-1.572211</td>\n",
       "      <td>-0.228695</td>\n",
       "      <td>-0.475199</td>\n",
       "      <td>-0.474326</td>\n",
       "      <td>-0.042213</td>\n",
       "      <td>1.0</td>\n",
       "      <td>1.0</td>\n",
       "      <td>0.0</td>\n",
       "      <td>0.0</td>\n",
       "    </tr>\n",
       "    <tr>\n",
       "      <th>888</th>\n",
       "      <td>0.825209</td>\n",
       "      <td>0.225769</td>\n",
       "      <td>-0.475199</td>\n",
       "      <td>-0.474326</td>\n",
       "      <td>-0.490173</td>\n",
       "      <td>1.0</td>\n",
       "      <td>0.0</td>\n",
       "      <td>1.0</td>\n",
       "      <td>0.0</td>\n",
       "    </tr>\n",
       "  </tbody>\n",
       "</table>\n",
       "<p>889 rows × 9 columns</p>\n",
       "</div>"
      ],
      "text/plain": [
       "       Pclass       Age     SibSp     Parch      Fare  Sex    C    Q    S\n",
       "0    0.825209 -0.531670  0.431350 -0.474326 -0.500240  1.0  0.0  0.0  1.0\n",
       "1   -1.572211  0.680232  0.431350 -0.474326  0.788947  0.0  1.0  0.0  0.0\n",
       "2    0.825209 -0.228695 -0.475199 -0.474326 -0.486650  0.0  0.0  0.0  1.0\n",
       "3   -1.572211  0.453001  0.431350 -0.474326  0.422861  0.0  0.0  0.0  1.0\n",
       "4    0.825209  0.453001 -0.475199 -0.474326 -0.484133  1.0  0.0  0.0  1.0\n",
       "..        ...       ...       ...       ...       ...  ...  ...  ...  ...\n",
       "884 -0.373501 -0.152951 -0.475199 -0.474326 -0.384475  1.0  0.0  0.0  1.0\n",
       "885 -1.572211 -0.758902 -0.475199 -0.474326 -0.042213  0.0  0.0  0.0  1.0\n",
       "886  0.825209 -0.380182  0.431350  2.006119 -0.174084  0.0  0.0  0.0  1.0\n",
       "887 -1.572211 -0.228695 -0.475199 -0.474326 -0.042213  1.0  1.0  0.0  0.0\n",
       "888  0.825209  0.225769 -0.475199 -0.474326 -0.490173  1.0  0.0  1.0  0.0\n",
       "\n",
       "[889 rows x 9 columns]"
      ]
     },
     "execution_count": 8,
     "metadata": {},
     "output_type": "execute_result"
    }
   ],
   "source": [
    "pd.DataFrame(titanic_data_train_X, columns=[\"Pclass\", \"Age\", \"SibSp\", \"Parch\", \"Fare\", \"Sex\", \"C\", \"Q\", \"S\"])"
   ]
  },
  {
   "cell_type": "markdown",
   "metadata": {},
   "source": [
    "### 5_1. SVM"
   ]
  },
  {
   "cell_type": "code",
   "execution_count": 9,
   "metadata": {},
   "outputs": [
    {
     "data": {
      "text/plain": [
       "0.8211695607763023"
      ]
     },
     "execution_count": 9,
     "metadata": {},
     "output_type": "execute_result"
    }
   ],
   "source": [
    "from sklearn.svm import SVC\n",
    "from sklearn.model_selection import cross_val_score\n",
    "\n",
    "svm_clf = SVC(gamma=\"auto\")\n",
    "\n",
    "svm_scores = cross_val_score(svm_clf, titanic_data_train_X, titanic_data_train_y, cv=10)\n",
    "svm_scores.mean()"
   ]
  },
  {
   "cell_type": "code",
   "execution_count": 10,
   "metadata": {},
   "outputs": [],
   "source": [
    "svm_clf.fit(titanic_data_train_X, titanic_data_train_y)\n",
    "\n",
    "results = svm_clf.predict(titanic_data_test_X)"
   ]
  },
  {
   "cell_type": "code",
   "execution_count": 11,
   "metadata": {},
   "outputs": [],
   "source": [
    "results = pd.DataFrame(results, columns=[\"Survived\"])\n",
    "pd.concat([titanic_data_test[\"PassengerId\"].to_frame(), results], axis=1).to_csv(\"result.csv\", index=False)"
   ]
  },
  {
   "cell_type": "markdown",
   "metadata": {},
   "source": [
    "### 5_1_1. SVM hyperparameter tuning"
   ]
  },
  {
   "cell_type": "code",
   "execution_count": 99,
   "metadata": {},
   "outputs": [
    {
     "name": "stdout",
     "output_type": "stream",
     "text": [
      "Fitting 10 folds for each of 12 candidates, totalling 120 fits\n",
      "[CV] END ............C=19, degree=1, gamma=auto, kernel=poly; total time=   0.0s\n",
      "[CV] END ............C=19, degree=1, gamma=auto, kernel=poly; total time=   0.0s\n",
      "[CV] END ............C=19, degree=1, gamma=auto, kernel=poly; total time=   0.0s\n",
      "[CV] END ............C=19, degree=1, gamma=auto, kernel=poly; total time=   0.0s\n",
      "[CV] END ............C=19, degree=1, gamma=auto, kernel=poly; total time=   0.0s\n",
      "[CV] END ............C=19, degree=1, gamma=auto, kernel=poly; total time=   0.0s\n",
      "[CV] END ............C=19, degree=1, gamma=auto, kernel=poly; total time=   0.0s\n",
      "[CV] END ............C=19, degree=1, gamma=auto, kernel=poly; total time=   0.0s\n",
      "[CV] END ............C=19, degree=1, gamma=auto, kernel=poly; total time=   0.0s\n",
      "[CV] END ............C=19, degree=1, gamma=auto, kernel=poly; total time=   0.0s\n",
      "[CV] END ............C=19, degree=2, gamma=auto, kernel=poly; total time=   0.0s\n",
      "[CV] END ............C=19, degree=2, gamma=auto, kernel=poly; total time=   0.0s\n",
      "[CV] END ............C=19, degree=2, gamma=auto, kernel=poly; total time=   0.0s\n",
      "[CV] END ............C=19, degree=2, gamma=auto, kernel=poly; total time=   0.0s\n",
      "[CV] END ............C=19, degree=2, gamma=auto, kernel=poly; total time=   0.0s\n",
      "[CV] END ............C=19, degree=2, gamma=auto, kernel=poly; total time=   0.0s\n",
      "[CV] END ............C=19, degree=2, gamma=auto, kernel=poly; total time=   0.0s\n",
      "[CV] END ............C=19, degree=2, gamma=auto, kernel=poly; total time=   0.0s\n",
      "[CV] END ............C=19, degree=2, gamma=auto, kernel=poly; total time=   0.0s\n",
      "[CV] END ............C=19, degree=2, gamma=auto, kernel=poly; total time=   0.0s\n",
      "[CV] END ............C=19, degree=3, gamma=auto, kernel=poly; total time=   0.0s\n",
      "[CV] END ............C=19, degree=3, gamma=auto, kernel=poly; total time=   0.0s\n",
      "[CV] END ............C=19, degree=3, gamma=auto, kernel=poly; total time=   0.0s\n",
      "[CV] END ............C=19, degree=3, gamma=auto, kernel=poly; total time=   0.0s\n",
      "[CV] END ............C=19, degree=3, gamma=auto, kernel=poly; total time=   0.0s\n",
      "[CV] END ............C=19, degree=3, gamma=auto, kernel=poly; total time=   0.0s\n",
      "[CV] END ............C=19, degree=3, gamma=auto, kernel=poly; total time=   0.0s\n",
      "[CV] END ............C=19, degree=3, gamma=auto, kernel=poly; total time=   0.0s\n",
      "[CV] END ............C=19, degree=3, gamma=auto, kernel=poly; total time=   0.0s\n",
      "[CV] END ............C=19, degree=3, gamma=auto, kernel=poly; total time=   0.0s\n",
      "[CV] END ............C=20, degree=1, gamma=auto, kernel=poly; total time=   0.0s\n",
      "[CV] END ............C=20, degree=1, gamma=auto, kernel=poly; total time=   0.0s\n",
      "[CV] END ............C=20, degree=1, gamma=auto, kernel=poly; total time=   0.0s\n",
      "[CV] END ............C=20, degree=1, gamma=auto, kernel=poly; total time=   0.0s\n",
      "[CV] END ............C=20, degree=1, gamma=auto, kernel=poly; total time=   0.0s\n",
      "[CV] END ............C=20, degree=1, gamma=auto, kernel=poly; total time=   0.0s\n",
      "[CV] END ............C=20, degree=1, gamma=auto, kernel=poly; total time=   0.0s\n",
      "[CV] END ............C=20, degree=1, gamma=auto, kernel=poly; total time=   0.0s\n",
      "[CV] END ............C=20, degree=1, gamma=auto, kernel=poly; total time=   0.0s\n",
      "[CV] END ............C=20, degree=1, gamma=auto, kernel=poly; total time=   0.0s\n",
      "[CV] END ............C=20, degree=2, gamma=auto, kernel=poly; total time=   0.0s\n",
      "[CV] END ............C=20, degree=2, gamma=auto, kernel=poly; total time=   0.0s\n",
      "[CV] END ............C=20, degree=2, gamma=auto, kernel=poly; total time=   0.0s\n",
      "[CV] END ............C=20, degree=2, gamma=auto, kernel=poly; total time=   0.0s\n",
      "[CV] END ............C=20, degree=2, gamma=auto, kernel=poly; total time=   0.0s\n",
      "[CV] END ............C=20, degree=2, gamma=auto, kernel=poly; total time=   0.0s\n",
      "[CV] END ............C=20, degree=2, gamma=auto, kernel=poly; total time=   0.0s\n",
      "[CV] END ............C=20, degree=2, gamma=auto, kernel=poly; total time=   0.0s\n",
      "[CV] END ............C=20, degree=2, gamma=auto, kernel=poly; total time=   0.0s\n",
      "[CV] END ............C=20, degree=2, gamma=auto, kernel=poly; total time=   0.0s\n",
      "[CV] END ............C=20, degree=3, gamma=auto, kernel=poly; total time=   0.0s\n",
      "[CV] END ............C=20, degree=3, gamma=auto, kernel=poly; total time=   0.0s\n",
      "[CV] END ............C=20, degree=3, gamma=auto, kernel=poly; total time=   0.0s\n",
      "[CV] END ............C=20, degree=3, gamma=auto, kernel=poly; total time=   0.0s\n",
      "[CV] END ............C=20, degree=3, gamma=auto, kernel=poly; total time=   0.0s\n",
      "[CV] END ............C=20, degree=3, gamma=auto, kernel=poly; total time=   0.0s\n",
      "[CV] END ............C=20, degree=3, gamma=auto, kernel=poly; total time=   0.0s\n",
      "[CV] END ............C=20, degree=3, gamma=auto, kernel=poly; total time=   0.0s\n",
      "[CV] END ............C=20, degree=3, gamma=auto, kernel=poly; total time=   0.0s\n",
      "[CV] END ............C=20, degree=3, gamma=auto, kernel=poly; total time=   0.0s\n",
      "[CV] END ............C=21, degree=1, gamma=auto, kernel=poly; total time=   0.0s\n",
      "[CV] END ............C=21, degree=1, gamma=auto, kernel=poly; total time=   0.0s\n",
      "[CV] END ............C=21, degree=1, gamma=auto, kernel=poly; total time=   0.0s\n",
      "[CV] END ............C=21, degree=1, gamma=auto, kernel=poly; total time=   0.0s\n",
      "[CV] END ............C=21, degree=1, gamma=auto, kernel=poly; total time=   0.0s\n",
      "[CV] END ............C=21, degree=1, gamma=auto, kernel=poly; total time=   0.0s\n",
      "[CV] END ............C=21, degree=1, gamma=auto, kernel=poly; total time=   0.0s\n",
      "[CV] END ............C=21, degree=1, gamma=auto, kernel=poly; total time=   0.0s\n",
      "[CV] END ............C=21, degree=1, gamma=auto, kernel=poly; total time=   0.0s\n",
      "[CV] END ............C=21, degree=1, gamma=auto, kernel=poly; total time=   0.0s\n",
      "[CV] END ............C=21, degree=2, gamma=auto, kernel=poly; total time=   0.0s\n",
      "[CV] END ............C=21, degree=2, gamma=auto, kernel=poly; total time=   0.0s\n",
      "[CV] END ............C=21, degree=2, gamma=auto, kernel=poly; total time=   0.0s\n",
      "[CV] END ............C=21, degree=2, gamma=auto, kernel=poly; total time=   0.0s\n",
      "[CV] END ............C=21, degree=2, gamma=auto, kernel=poly; total time=   0.0s\n",
      "[CV] END ............C=21, degree=2, gamma=auto, kernel=poly; total time=   0.0s\n",
      "[CV] END ............C=21, degree=2, gamma=auto, kernel=poly; total time=   0.0s\n",
      "[CV] END ............C=21, degree=2, gamma=auto, kernel=poly; total time=   0.0s\n",
      "[CV] END ............C=21, degree=2, gamma=auto, kernel=poly; total time=   0.0s\n",
      "[CV] END ............C=21, degree=2, gamma=auto, kernel=poly; total time=   0.0s\n",
      "[CV] END ............C=21, degree=3, gamma=auto, kernel=poly; total time=   0.0s\n",
      "[CV] END ............C=21, degree=3, gamma=auto, kernel=poly; total time=   0.0s\n",
      "[CV] END ............C=21, degree=3, gamma=auto, kernel=poly; total time=   0.0s\n",
      "[CV] END ............C=21, degree=3, gamma=auto, kernel=poly; total time=   0.0s\n",
      "[CV] END ............C=21, degree=3, gamma=auto, kernel=poly; total time=   0.0s\n",
      "[CV] END ............C=21, degree=3, gamma=auto, kernel=poly; total time=   0.0s\n",
      "[CV] END ............C=21, degree=3, gamma=auto, kernel=poly; total time=   0.0s\n",
      "[CV] END ............C=21, degree=3, gamma=auto, kernel=poly; total time=   0.0s\n",
      "[CV] END ............C=21, degree=3, gamma=auto, kernel=poly; total time=   0.0s\n",
      "[CV] END ............C=21, degree=3, gamma=auto, kernel=poly; total time=   0.0s\n",
      "[CV] END ...................C=15, gamma=auto, kernel=sigmoid; total time=   0.0s\n",
      "[CV] END ...................C=15, gamma=auto, kernel=sigmoid; total time=   0.0s\n",
      "[CV] END ...................C=15, gamma=auto, kernel=sigmoid; total time=   0.0s\n",
      "[CV] END ...................C=15, gamma=auto, kernel=sigmoid; total time=   0.0s\n",
      "[CV] END ...................C=15, gamma=auto, kernel=sigmoid; total time=   0.0s\n",
      "[CV] END ...................C=15, gamma=auto, kernel=sigmoid; total time=   0.0s\n",
      "[CV] END ...................C=15, gamma=auto, kernel=sigmoid; total time=   0.0s\n",
      "[CV] END ...................C=15, gamma=auto, kernel=sigmoid; total time=   0.0s\n",
      "[CV] END ...................C=15, gamma=auto, kernel=sigmoid; total time=   0.0s\n",
      "[CV] END ...................C=15, gamma=auto, kernel=sigmoid; total time=   0.0s\n",
      "[CV] END ...................C=20, gamma=auto, kernel=sigmoid; total time=   0.0s\n",
      "[CV] END ...................C=20, gamma=auto, kernel=sigmoid; total time=   0.0s\n",
      "[CV] END ...................C=20, gamma=auto, kernel=sigmoid; total time=   0.0s\n",
      "[CV] END ...................C=20, gamma=auto, kernel=sigmoid; total time=   0.0s\n",
      "[CV] END ...................C=20, gamma=auto, kernel=sigmoid; total time=   0.0s\n",
      "[CV] END ...................C=20, gamma=auto, kernel=sigmoid; total time=   0.0s\n",
      "[CV] END ...................C=20, gamma=auto, kernel=sigmoid; total time=   0.0s\n",
      "[CV] END ...................C=20, gamma=auto, kernel=sigmoid; total time=   0.0s\n",
      "[CV] END ...................C=20, gamma=auto, kernel=sigmoid; total time=   0.0s\n",
      "[CV] END ...................C=20, gamma=auto, kernel=sigmoid; total time=   0.0s\n",
      "[CV] END ...................C=25, gamma=auto, kernel=sigmoid; total time=   0.0s\n",
      "[CV] END ...................C=25, gamma=auto, kernel=sigmoid; total time=   0.0s\n",
      "[CV] END ...................C=25, gamma=auto, kernel=sigmoid; total time=   0.0s\n",
      "[CV] END ...................C=25, gamma=auto, kernel=sigmoid; total time=   0.0s\n",
      "[CV] END ...................C=25, gamma=auto, kernel=sigmoid; total time=   0.0s\n",
      "[CV] END ...................C=25, gamma=auto, kernel=sigmoid; total time=   0.0s\n",
      "[CV] END ...................C=25, gamma=auto, kernel=sigmoid; total time=   0.0s\n",
      "[CV] END ...................C=25, gamma=auto, kernel=sigmoid; total time=   0.0s\n",
      "[CV] END ...................C=25, gamma=auto, kernel=sigmoid; total time=   0.0s\n",
      "[CV] END ...................C=25, gamma=auto, kernel=sigmoid; total time=   0.0s\n"
     ]
    },
    {
     "data": {
      "text/plain": [
       "GridSearchCV(cv=10, estimator=SVC(),\n",
       "             param_grid=[{'C': [19, 20, 21], 'degree': [1, 2, 3],\n",
       "                          'gamma': ['auto'], 'kernel': ['poly']},\n",
       "                         {'C': [15, 20, 25], 'gamma': ['auto'],\n",
       "                          'kernel': ['sigmoid']}],\n",
       "             return_train_score=True, verbose=2)"
      ]
     },
     "execution_count": 99,
     "metadata": {},
     "output_type": "execute_result"
    }
   ],
   "source": [
    "from sklearn.svm import SVC\n",
    "from sklearn.model_selection import GridSearchCV\n",
    "\n",
    "param_grid = [\n",
    "  {'C': [19, 20, 21],  'gamma': [\"auto\"], 'degree': [1, 2, 3], 'kernel': ['poly']},\n",
    "  {'C': [15, 20, 25],  'gamma': [\"auto\"], 'kernel': ['sigmoid']},\n",
    " ]\n",
    "\n",
    "svm_clf = SVC()\n",
    "\n",
    "svm_grid = GridSearchCV(svm_clf, param_grid, cv=10, return_train_score=True, verbose=2)\n",
    "svm_grid.fit(titanic_data_train_X, titanic_data_train_y)"
   ]
  },
  {
   "cell_type": "code",
   "execution_count": 100,
   "metadata": {},
   "outputs": [
    {
     "name": "stdout",
     "output_type": "stream",
     "text": [
      "0.7862487231869254 {'C': 19, 'degree': 1, 'gamma': 'auto', 'kernel': 'poly'}\n",
      "0.8335418794688458 {'C': 19, 'degree': 2, 'gamma': 'auto', 'kernel': 'poly'}\n",
      "0.8133171603677221 {'C': 19, 'degree': 3, 'gamma': 'auto', 'kernel': 'poly'}\n",
      "0.7862487231869254 {'C': 20, 'degree': 1, 'gamma': 'auto', 'kernel': 'poly'}\n",
      "0.8346654749744638 {'C': 20, 'degree': 2, 'gamma': 'auto', 'kernel': 'poly'}\n",
      "0.8121935648621041 {'C': 20, 'degree': 3, 'gamma': 'auto', 'kernel': 'poly'}\n",
      "0.7862487231869254 {'C': 21, 'degree': 1, 'gamma': 'auto', 'kernel': 'poly'}\n",
      "0.8335418794688458 {'C': 21, 'degree': 2, 'gamma': 'auto', 'kernel': 'poly'}\n",
      "0.8088227783452503 {'C': 21, 'degree': 3, 'gamma': 'auto', 'kernel': 'poly'}\n",
      "0.6860444330949947 {'C': 15, 'gamma': 'auto', 'kernel': 'sigmoid'}\n",
      "0.6692288049029622 {'C': 20, 'gamma': 'auto', 'kernel': 'sigmoid'}\n",
      "0.6602017364657815 {'C': 25, 'gamma': 'auto', 'kernel': 'sigmoid'}\n"
     ]
    }
   ],
   "source": [
    "cvres = svm_grid.cv_results_\n",
    "for mean_score, params in zip(cvres[\"mean_test_score\"], cvres[\"params\"]):\n",
    "    print(mean_score, params)"
   ]
  },
  {
   "cell_type": "code",
   "execution_count": 101,
   "metadata": {},
   "outputs": [
    {
     "data": {
      "text/plain": [
       "{'C': 20, 'degree': 2, 'gamma': 'auto', 'kernel': 'poly'}"
      ]
     },
     "execution_count": 101,
     "metadata": {},
     "output_type": "execute_result"
    }
   ],
   "source": [
    "svm_grid.best_params_"
   ]
  },
  {
   "cell_type": "code",
   "execution_count": 102,
   "metadata": {},
   "outputs": [
    {
     "data": {
      "text/plain": [
       "0.8346654749744638"
      ]
     },
     "execution_count": 102,
     "metadata": {},
     "output_type": "execute_result"
    }
   ],
   "source": [
    "svm_grid.best_score_"
   ]
  },
  {
   "cell_type": "code",
   "execution_count": 106,
   "metadata": {},
   "outputs": [
    {
     "data": {
      "text/plain": [
       "SVC(C=20, degree=2, gamma='auto', kernel='poly')"
      ]
     },
     "execution_count": 106,
     "metadata": {},
     "output_type": "execute_result"
    }
   ],
   "source": [
    "svm_grid.best_estimator_"
   ]
  },
  {
   "cell_type": "code",
   "execution_count": 107,
   "metadata": {},
   "outputs": [],
   "source": [
    "results = svm_grid.best_estimator_.predict(titanic_data_test_X)\n",
    "\n",
    "results = pd.DataFrame(results, columns=[\"Survived\"])\n",
    "pd.concat([titanic_data_test[\"PassengerId\"].to_frame(), results], axis=1).to_csv(\"result.csv\", index=False)"
   ]
  },
  {
   "cell_type": "markdown",
   "metadata": {},
   "source": [
    "### 5_2. RandomForestClassifier"
   ]
  },
  {
   "cell_type": "code",
   "execution_count": 108,
   "metadata": {},
   "outputs": [
    {
     "data": {
      "text/plain": [
       "0.8166624106230846"
      ]
     },
     "execution_count": 108,
     "metadata": {},
     "output_type": "execute_result"
    }
   ],
   "source": [
    "from sklearn.ensemble import RandomForestClassifier\n",
    "\n",
    "forest_clf = RandomForestClassifier()\n",
    "forest_scores = cross_val_score(forest_clf, titanic_data_train_X, titanic_data_train_y, cv=10)\n",
    "\n",
    "forest_scores.mean()"
   ]
  },
  {
   "cell_type": "code",
   "execution_count": 110,
   "metadata": {},
   "outputs": [],
   "source": [
    "forest_clf.fit(titanic_data_train_X, titanic_data_train_y)\n",
    "results = forest_clf.predict(titanic_data_test_X)\n",
    "\n",
    "results = pd.DataFrame(results, columns=[\"Survived\"])\n",
    "pd.concat([titanic_data_test[\"PassengerId\"].to_frame(), results], axis=1).to_csv(\"result.csv\", index=False)"
   ]
  },
  {
   "cell_type": "markdown",
   "metadata": {},
   "source": [
    "### 5_2_1. RandomForestClassifier hyperparameter tuning"
   ]
  },
  {
   "cell_type": "code",
   "execution_count": 13,
   "metadata": {},
   "outputs": [
    {
     "name": "stdout",
     "output_type": "stream",
     "text": [
      "Fitting 10 folds for each of 54 candidates, totalling 540 fits\n"
     ]
    },
    {
     "name": "stderr",
     "output_type": "stream",
     "text": [
      "d:\\pythonenv\\mlenv\\lib\\site-packages\\sklearn\\model_selection\\_search.py:922: UserWarning: One or more of the test scores are non-finite: [       nan        nan        nan 0.61754341 0.61754341 0.61754341\n",
      " 0.61754341 0.61754341 0.61754341        nan        nan        nan\n",
      " 0.81668795 0.81330439 0.81667518 0.81216803 0.82230592 0.82342952\n",
      "        nan        nan        nan 0.82567671 0.83465271 0.83463994\n",
      " 0.82566394 0.8357763  0.83351634        nan        nan        nan\n",
      " 0.61754341 0.61754341 0.61754341 0.61754341 0.61754341 0.61754341\n",
      "        nan        nan        nan 0.79868488 0.79982125 0.79869765\n",
      " 0.81109551 0.80769918 0.8032048         nan        nan        nan\n",
      " 0.82906027 0.83015832 0.82791113 0.82118233 0.82566394 0.83015832]\n",
      "  warnings.warn(\n",
      "d:\\pythonenv\\mlenv\\lib\\site-packages\\sklearn\\model_selection\\_search.py:922: UserWarning: One or more of the train scores are non-finite: [       nan        nan        nan 0.61754775 0.61754775 0.61754775\n",
      " 0.61754775 0.61754775 0.61754775        nan        nan        nan\n",
      " 0.9670039  0.98337718 0.98337718 0.95900531 0.9748789  0.97912828\n",
      "        nan        nan        nan 0.90938717 0.9133853  0.91301139\n",
      " 0.90801108 0.91426046 0.91451046        nan        nan        nan\n",
      " 0.61754775 0.61754775 0.61754775 0.61754775 0.61754775 0.61754775\n",
      "        nan        nan        nan 0.98337718 0.98337718 0.98337718\n",
      " 0.98275218 0.98337718 0.98337718        nan        nan        nan\n",
      " 0.94113296 0.94700702 0.94463233 0.94313233 0.94500687 0.94563218]\n",
      "  warnings.warn(\n"
     ]
    },
    {
     "data": {
      "text/plain": [
       "GridSearchCV(cv=10, estimator=RandomForestClassifier(), n_jobs=2,\n",
       "             param_grid=[{'bootstrap': [True, False],\n",
       "                          'min_samples_leaf': [0.5, 1, 2],\n",
       "                          'min_samples_split': [1, 2, 3],\n",
       "                          'n_estimators': [10, 100, 500]}],\n",
       "             return_train_score=True, verbose=1)"
      ]
     },
     "execution_count": 13,
     "metadata": {},
     "output_type": "execute_result"
    }
   ],
   "source": [
    "from sklearn.ensemble import RandomForestClassifier\n",
    "from sklearn.model_selection import GridSearchCV\n",
    "\n",
    "param_grid = [\n",
    "    {'n_estimators': [10, 100, 500], 'min_samples_split': [1, 2, 3], 'min_samples_leaf': [0.5, 1, 2], 'bootstrap': [True, False]}\n",
    "]\n",
    "\n",
    "random_clf = RandomForestClassifier()\n",
    "forest_grid = GridSearchCV(random_clf, param_grid, cv=10, return_train_score=True, n_jobs=2, verbose=1)\n",
    "forest_grid.fit(titanic_data_train_X, titanic_data_train_y)"
   ]
  },
  {
   "cell_type": "code",
   "execution_count": 41,
   "metadata": {},
   "outputs": [
    {
     "name": "stdout",
     "output_type": "stream",
     "text": [
      "0.6175434116445352 {'bootstrap': True, 'min_samples_leaf': 0.5, 'min_samples_split': 2, 'n_estimators': 10}\n",
      "0.6175434116445352 {'bootstrap': True, 'min_samples_leaf': 0.5, 'min_samples_split': 2, 'n_estimators': 100}\n",
      "0.6175434116445352 {'bootstrap': True, 'min_samples_leaf': 0.5, 'min_samples_split': 2, 'n_estimators': 500}\n",
      "0.6175434116445352 {'bootstrap': True, 'min_samples_leaf': 0.5, 'min_samples_split': 3, 'n_estimators': 10}\n",
      "0.6175434116445352 {'bootstrap': True, 'min_samples_leaf': 0.5, 'min_samples_split': 3, 'n_estimators': 100}\n",
      "0.6175434116445352 {'bootstrap': True, 'min_samples_leaf': 0.5, 'min_samples_split': 3, 'n_estimators': 500}\n",
      "0.816687946884576 {'bootstrap': True, 'min_samples_leaf': 1, 'min_samples_split': 2, 'n_estimators': 10}\n",
      "0.8133043922369765 {'bootstrap': True, 'min_samples_leaf': 1, 'min_samples_split': 2, 'n_estimators': 100}\n",
      "0.8166751787538304 {'bootstrap': True, 'min_samples_leaf': 1, 'min_samples_split': 2, 'n_estimators': 500}\n",
      "0.8121680286006129 {'bootstrap': True, 'min_samples_leaf': 1, 'min_samples_split': 3, 'n_estimators': 10}\n",
      "0.8223059244126659 {'bootstrap': True, 'min_samples_leaf': 1, 'min_samples_split': 3, 'n_estimators': 100}\n",
      "0.8234295199182841 {'bootstrap': True, 'min_samples_leaf': 1, 'min_samples_split': 3, 'n_estimators': 500}\n",
      "0.8256767109295199 {'bootstrap': True, 'min_samples_leaf': 2, 'min_samples_split': 2, 'n_estimators': 10}\n",
      "0.8346527068437182 {'bootstrap': True, 'min_samples_leaf': 2, 'min_samples_split': 2, 'n_estimators': 100}\n",
      "0.8346399387129724 {'bootstrap': True, 'min_samples_leaf': 2, 'min_samples_split': 2, 'n_estimators': 500}\n",
      "0.8256639427987743 {'bootstrap': True, 'min_samples_leaf': 2, 'min_samples_split': 3, 'n_estimators': 10}\n",
      "0.8357763023493361 {'bootstrap': True, 'min_samples_leaf': 2, 'min_samples_split': 3, 'n_estimators': 100}\n",
      "0.8335163432073545 {'bootstrap': True, 'min_samples_leaf': 2, 'min_samples_split': 3, 'n_estimators': 500}\n",
      "0.6175434116445352 {'bootstrap': False, 'min_samples_leaf': 0.5, 'min_samples_split': 2, 'n_estimators': 10}\n",
      "0.6175434116445352 {'bootstrap': False, 'min_samples_leaf': 0.5, 'min_samples_split': 2, 'n_estimators': 100}\n",
      "0.6175434116445352 {'bootstrap': False, 'min_samples_leaf': 0.5, 'min_samples_split': 2, 'n_estimators': 500}\n",
      "0.6175434116445352 {'bootstrap': False, 'min_samples_leaf': 0.5, 'min_samples_split': 3, 'n_estimators': 10}\n",
      "0.6175434116445352 {'bootstrap': False, 'min_samples_leaf': 0.5, 'min_samples_split': 3, 'n_estimators': 100}\n",
      "0.6175434116445352 {'bootstrap': False, 'min_samples_leaf': 0.5, 'min_samples_split': 3, 'n_estimators': 500}\n",
      "0.7986848825331971 {'bootstrap': False, 'min_samples_leaf': 1, 'min_samples_split': 2, 'n_estimators': 10}\n",
      "0.7998212461695607 {'bootstrap': False, 'min_samples_leaf': 1, 'min_samples_split': 2, 'n_estimators': 100}\n",
      "0.7986976506639428 {'bootstrap': False, 'min_samples_leaf': 1, 'min_samples_split': 2, 'n_estimators': 500}\n",
      "0.8110955056179776 {'bootstrap': False, 'min_samples_leaf': 1, 'min_samples_split': 3, 'n_estimators': 10}\n",
      "0.8076991828396322 {'bootstrap': False, 'min_samples_leaf': 1, 'min_samples_split': 3, 'n_estimators': 100}\n",
      "0.8032048008171604 {'bootstrap': False, 'min_samples_leaf': 1, 'min_samples_split': 3, 'n_estimators': 500}\n",
      "0.8290602655771195 {'bootstrap': False, 'min_samples_leaf': 2, 'min_samples_split': 2, 'n_estimators': 10}\n",
      "0.8301583248212461 {'bootstrap': False, 'min_samples_leaf': 2, 'min_samples_split': 2, 'n_estimators': 100}\n",
      "0.8279111338100101 {'bootstrap': False, 'min_samples_leaf': 2, 'min_samples_split': 2, 'n_estimators': 500}\n",
      "0.821182328907048 {'bootstrap': False, 'min_samples_leaf': 2, 'min_samples_split': 3, 'n_estimators': 10}\n",
      "0.8256639427987743 {'bootstrap': False, 'min_samples_leaf': 2, 'min_samples_split': 3, 'n_estimators': 100}\n",
      "0.8301583248212461 {'bootstrap': False, 'min_samples_leaf': 2, 'min_samples_split': 3, 'n_estimators': 500}\n"
     ]
    }
   ],
   "source": [
    "cvres = forest_grid.cv_results_\n",
    "for mean_score, params in zip(cvres[\"mean_test_score\"], cvres[\"params\"]):\n",
    "    if not np.isnan(mean_score):\n",
    "        print(mean_score, params)"
   ]
  },
  {
   "cell_type": "code",
   "execution_count": 42,
   "metadata": {},
   "outputs": [
    {
     "data": {
      "text/plain": [
       "0.8357763023493361"
      ]
     },
     "execution_count": 42,
     "metadata": {},
     "output_type": "execute_result"
    }
   ],
   "source": [
    "forest_grid.best_score_"
   ]
  },
  {
   "cell_type": "code",
   "execution_count": 43,
   "metadata": {},
   "outputs": [
    {
     "data": {
      "text/plain": [
       "{'bootstrap': True,\n",
       " 'min_samples_leaf': 2,\n",
       " 'min_samples_split': 3,\n",
       " 'n_estimators': 100}"
      ]
     },
     "execution_count": 43,
     "metadata": {},
     "output_type": "execute_result"
    }
   ],
   "source": [
    "forest_grid.best_params_"
   ]
  },
  {
   "cell_type": "code",
   "execution_count": 44,
   "metadata": {},
   "outputs": [],
   "source": [
    "results = forest_grid.best_estimator_.predict(titanic_data_test_X)\n",
    "\n",
    "results = pd.DataFrame(results, columns=[\"Survived\"])\n",
    "pd.concat([titanic_data_test[\"PassengerId\"].to_frame(), results], axis=1).to_csv(\"result.csv\", index=False)"
   ]
  }
 ],
 "metadata": {
  "interpreter": {
   "hash": "bed0ea09e0a217f0cd8c3af8b97b5ce48feb5846fec0e29c23d707f4dd7f9787"
  },
  "kernelspec": {
   "display_name": "Python 3.8.3 64-bit ('mlenv': venv)",
   "language": "python",
   "name": "python3"
  },
  "language_info": {
   "codemirror_mode": {
    "name": "ipython",
    "version": 3
   },
   "file_extension": ".py",
   "mimetype": "text/x-python",
   "name": "python",
   "nbconvert_exporter": "python",
   "pygments_lexer": "ipython3",
   "version": "3.8.3"
  },
  "orig_nbformat": 4
 },
 "nbformat": 4,
 "nbformat_minor": 2
}
